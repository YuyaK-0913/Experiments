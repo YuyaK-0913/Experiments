{
 "cells": [
  {
   "cell_type": "markdown",
   "metadata": {
    "id": "-sq7LWW1GyMr"
   },
   "source": [
    "# 8章　MNISTを使った数字認識"
   ]
  },
  {
   "cell_type": "code",
   "execution_count": 1,
   "metadata": {
    "id": "wIKc0rgJQRbQ"
   },
   "outputs": [],
   "source": [
    "# 必要ライブラリのインポート\n",
    "\n",
    "%matplotlib inline\n",
    "import numpy as np\n",
    "import matplotlib.pyplot as plt\n",
    "import japanize_matplotlib\n",
    "from IPython.display import display"
   ]
  },
  {
   "cell_type": "code",
   "execution_count": 2,
   "metadata": {
    "id": "R4AKptKEQRbQ"
   },
   "outputs": [],
   "source": [
    "# torch関連ライブラリのインポート\n",
    "\n",
    "import torch\n",
    "import torch.nn as nn\n",
    "import torch.optim as optim\n",
    "from torchinfo import summary\n",
    "from torchviz import make_dot"
   ]
  },
  {
   "cell_type": "code",
   "execution_count": 3,
   "metadata": {
    "id": "OaJvhUX1QRbR"
   },
   "outputs": [],
   "source": [
    "# warning表示off\n",
    "import warnings\n",
    "warnings.simplefilter('ignore')\n",
    "\n",
    "# デフォルトフォントサイズ変更\n",
    "plt.rcParams['font.size'] = 14\n",
    "\n",
    "# デフォルトグラフサイズ変更\n",
    "plt.rcParams['figure.figsize'] = (6,6)\n",
    "\n",
    "# デフォルトで方眼表示ON\n",
    "plt.rcParams['axes.grid'] = True\n",
    "\n",
    "# numpyの表示桁数設定\n",
    "np.set_printoptions(suppress=True, precision=5)"
   ]
  },
  {
   "cell_type": "markdown",
   "metadata": {
    "id": "-vlvZjd_y8fw"
   },
   "source": [
    "## 8.3 ReLU関数"
   ]
  },
  {
   "cell_type": "code",
   "execution_count": 4,
   "metadata": {
    "id": "Qr0e6fNJztAr"
   },
   "outputs": [
    {
     "data": {
      "image/png": "[encoded data removed]",
      "text/plain": [
       "<Figure size 600x600 with 1 Axes>"
      ]
     },
     "metadata": {},
     "output_type": "display_data"
    }
   ],
   "source": [
    "# ReLU関数のグラフ\n",
    "\n",
    "relu = nn.ReLU()\n",
    "x_np = np.arange(-2, 2.1, 0.25)\n",
    "x = torch.tensor(x_np).float()\n",
    "y = relu(x)\n",
    "\n",
    "plt.plot(x.data, y.data)\n",
    "plt.title('ReLU関数')\n",
    "plt.show()"
   ]
  },
  {
   "cell_type": "markdown",
   "metadata": {
    "id": "JuXnWk6jtpfW"
   },
   "source": [
    "## 8.4 GPU利用"
   ]
  },
  {
   "cell_type": "markdown",
   "metadata": {
    "id": "G9dK3ibfzWDW"
   },
   "source": [
    "### GPUチェック"
   ]
  },
  {
   "cell_type": "code",
   "execution_count": 5,
   "metadata": {
    "id": "-vMUHy9RGyNB"
   },
   "outputs": [
    {
     "name": "stdout",
     "output_type": "stream",
     "text": [
      "cpu\n"
     ]
    }
   ],
   "source": [
    "# デバイスの割り当て\n",
    "device = torch.device(\"cuda:0\" if torch.cuda.is_available() else \"cpu\")\n",
    "print(device)"
   ]
  },
  {
   "cell_type": "code",
   "execution_count": 6,
   "metadata": {
    "id": "Z-koKiUTy8fx"
   },
   "outputs": [
    {
     "name": "stdout",
     "output_type": "stream",
     "text": [
      "tensor([ 2.0000,  1.3125,  0.7500,  0.3125, -0.0000, -0.1875, -0.2500, -0.1875,\n",
      "         0.0000,  0.3125,  0.7500,  1.3125,  2.0000,  2.8125,  3.7500,  4.8125,\n",
      "         6.0000])\n"
     ]
    }
   ],
   "source": [
    "# テスト用tensor変数x , y \n",
    "x_np = np.arange(-2.0, 2.1, 0.25)\n",
    "y_np = np.arange(-1.0, 3.1, 0.25)\n",
    "x = torch.tensor(x_np).float()\n",
    "y = torch.tensor(y_np).float()\n",
    "\n",
    "# xとyの間の演算\n",
    "z = x * y\n",
    "print(z)"
   ]
  },
  {
   "cell_type": "code",
   "execution_count": 7,
   "metadata": {
    "id": "1-VBUQL135T3"
   },
   "outputs": [
    {
     "name": "stdout",
     "output_type": "stream",
     "text": [
      "x:  cpu\n",
      "y:  cpu\n"
     ]
    }
   ],
   "source": [
    "# 変数xをGPUに送る\n",
    "x = x.to(device)\n",
    "\n",
    "# 変数xとyの属性data, deviceの確認\n",
    "print('x: ', x.device)\n",
    "print('y: ', y.device)"
   ]
  },
  {
   "cell_type": "code",
   "execution_count": 8,
   "metadata": {
    "id": "ovOqHX2735yN"
   },
   "outputs": [],
   "source": [
    "# この状態でxとyの演算をすると。。。\n",
    "\n",
    "z = x * y"
   ]
  },
  {
   "cell_type": "code",
   "execution_count": 9,
   "metadata": {
    "id": "qavPREnP359u"
   },
   "outputs": [
    {
     "name": "stdout",
     "output_type": "stream",
     "text": [
      "tensor([ 2.0000,  1.3125,  0.7500,  0.3125, -0.0000, -0.1875, -0.2500, -0.1875,\n",
      "         0.0000,  0.3125,  0.7500,  1.3125,  2.0000,  2.8125,  3.7500,  4.8125,\n",
      "         6.0000])\n"
     ]
    }
   ],
   "source": [
    "# yもGPUに送る\n",
    "y = y.to(device)\n",
    "\n",
    "# 今度は計算可能になる\n",
    "z = x * y\n",
    "print(z)"
   ]
  },
  {
   "cell_type": "markdown",
   "metadata": {
    "id": "7S2H468hORq2"
   },
   "source": [
    "## 8.8 データ準備1 (データセットによる読み込み)"
   ]
  },
  {
   "cell_type": "code",
   "execution_count": 10,
   "metadata": {
    "id": "nbjBR_ZAORq3"
   },
   "outputs": [
    {
     "name": "stdout",
     "output_type": "stream",
     "text": [
      "Downloading http://yann.lecun.com/exdb/mnist/train-images-idx3-ubyte.gz\n",
      "Failed to download (trying next):\n",
      "HTTP Error 403: Forbidden\n",
      "\n",
      "Downloading https://ossci-datasets.s3.amazonaws.com/mnist/train-images-idx3-ubyte.gz\n",
      "Downloading https://ossci-datasets.s3.amazonaws.com/mnist/train-images-idx3-ubyte.gz to ./data/MNIST/raw/train-images-idx3-ubyte.gz\n"
     ]
    },
    {
     "name": "stderr",
     "output_type": "stream",
     "text": [
      "100%|██████████| 9912422/9912422 [00:03<00:00, 2992219.73it/s]\n"
     ]
    },
    {
     "name": "stdout",
     "output_type": "stream",
     "text": [
      "Extracting ./data/MNIST/raw/train-images-idx3-ubyte.gz to ./data/MNIST/raw\n",
      "\n",
      "Downloading http://yann.lecun.com/exdb/mnist/train-labels-idx1-ubyte.gz\n",
      "Failed to download (trying next):\n",
      "HTTP Error 403: Forbidden\n",
      "\n",
      "Downloading https://ossci-datasets.s3.amazonaws.com/mnist/train-labels-idx1-ubyte.gz\n",
      "Downloading https://ossci-datasets.s3.amazonaws.com/mnist/train-labels-idx1-ubyte.gz to ./data/MNIST/raw/train-labels-idx1-ubyte.gz\n"
     ]
    },
    {
     "name": "stderr",
     "output_type": "stream",
     "text": [
      "100%|██████████| 28881/28881 [00:00<00:00, 137073.19it/s]\n"
     ]
    },
    {
     "name": "stdout",
     "output_type": "stream",
     "text": [
      "Extracting ./data/MNIST/raw/train-labels-idx1-ubyte.gz to ./data/MNIST/raw\n",
      "\n",
      "Downloading http://yann.lecun.com/exdb/mnist/t10k-images-idx3-ubyte.gz\n",
      "Failed to download (trying next):\n",
      "HTTP Error 403: Forbidden\n",
      "\n",
      "Downloading https://ossci-datasets.s3.amazonaws.com/mnist/t10k-images-idx3-ubyte.gz\n",
      "Downloading https://ossci-datasets.s3.amazonaws.com/mnist/t10k-images-idx3-ubyte.gz to ./data/MNIST/raw/t10k-images-idx3-ubyte.gz\n"
     ]
    },
    {
     "name": "stderr",
     "output_type": "stream",
     "text": [
      "100%|██████████| 1648877/1648877 [00:01<00:00, 1200296.95it/s]\n"
     ]
    },
    {
     "name": "stdout",
     "output_type": "stream",
     "text": [
      "Extracting ./data/MNIST/raw/t10k-images-idx3-ubyte.gz to ./data/MNIST/raw\n",
      "\n",
      "Downloading http://yann.lecun.com/exdb/mnist/t10k-labels-idx1-ubyte.gz\n",
      "Failed to download (trying next):\n",
      "HTTP Error 403: Forbidden\n",
      "\n",
      "Downloading https://ossci-datasets.s3.amazonaws.com/mnist/t10k-labels-idx1-ubyte.gz\n",
      "Downloading https://ossci-datasets.s3.amazonaws.com/mnist/t10k-labels-idx1-ubyte.gz to ./data/MNIST/raw/t10k-labels-idx1-ubyte.gz\n"
     ]
    },
    {
     "name": "stderr",
     "output_type": "stream",
     "text": [
      "100%|██████████| 4542/4542 [00:00<00:00, 2093234.67it/s]\n"
     ]
    },
    {
     "name": "stdout",
     "output_type": "stream",
     "text": [
      "Extracting ./data/MNIST/raw/t10k-labels-idx1-ubyte.gz to ./data/MNIST/raw\n",
      "\n"
     ]
    }
   ],
   "source": [
    "# ライブラリインポート\n",
    "import torchvision.datasets as datasets\n",
    "\n",
    "# ダウンロード先ディレクトリ名\n",
    "data_root = './data'\n",
    "\n",
    "train_set0 = datasets.MNIST(\n",
    "    # 元データダウンロード先の指定\n",
    "    root = data_root,  \n",
    "    # 訓練データか検証データか\n",
    "    train = True,  \n",
    "    # 元データがない場合にダウンロードするか\n",
    "    download = True)"
   ]
  },
  {
   "cell_type": "code",
   "execution_count": 11,
   "metadata": {
    "id": "yZDvzf2nSc8n"
   },
   "outputs": [
    {
     "name": "stdout",
     "output_type": "stream",
     "text": [
      "./data/MNIST:\n",
      "total 0\n",
      "drwxr-xr-x 1 jovyan users 4096 Oct  1 15:48 raw\n",
      "\n",
      "./data/MNIST/raw:\n",
      "total 65008\n",
      "-rw-r--r-- 1 jovyan users  7840016 Oct  1 15:48 t10k-images-idx3-ubyte\n",
      "-rw-r--r-- 1 jovyan users  1648877 Oct  1 15:48 t10k-images-idx3-ubyte.gz\n",
      "-rw-r--r-- 1 jovyan users    10008 Oct  1 15:48 t10k-labels-idx1-ubyte\n",
      "-rw-r--r-- 1 jovyan users     4542 Oct  1 15:48 t10k-labels-idx1-ubyte.gz\n",
      "-rw-r--r-- 1 jovyan users 47040016 Oct  1 15:48 train-images-idx3-ubyte\n",
      "-rw-r--r-- 1 jovyan users  9912422 Oct  1 15:48 train-images-idx3-ubyte.gz\n",
      "-rw-r--r-- 1 jovyan users    60008 Oct  1 15:48 train-labels-idx1-ubyte\n",
      "-rw-r--r-- 1 jovyan users    28881 Oct  1 15:48 train-labels-idx1-ubyte.gz\n"
     ]
    }
   ],
   "source": [
    "# ダウンロードしたファイルの確認\n",
    "\n",
    "!ls -lR ./data/MNIST"
   ]
  },
  {
   "cell_type": "code",
   "execution_count": 13,
   "metadata": {
    "id": "DTnvCClZh93k"
   },
   "outputs": [
    {
     "name": "stdout",
     "output_type": "stream",
     "text": [
      "データ件数:  60000\n",
      "入力データの型:  <class 'PIL.Image.Image'>\n",
      "正解データの型:  <class 'int'>\n"
     ]
    }
   ],
   "source": [
    "# データ件数の確認\n",
    "print('データ件数: ', len(train_set0))\n",
    "\n",
    "# 最初の要素の取得\n",
    "image, label = train_set0[0]\n",
    "\n",
    "# データ型の確認\n",
    "print('入力データの型: ', type(image))\n",
    "print('正解データの型: ', type(label))"
   ]
  },
  {
   "cell_type": "code",
   "execution_count": 14,
   "metadata": {
    "id": "zax7TjeCORq5"
   },
   "outputs": [
    {
     "data": {
      "image/png": "[encoded data removed]",
      "text/plain": [
       "<Figure size 200x300 with 1 Axes>"
      ]
     },
     "metadata": {},
     "output_type": "display_data"
    }
   ],
   "source": [
    "# 入力データの画像表示\n",
    "\n",
    "plt.figure(figsize=(2,3))\n",
    "plt.title(f'{label}')\n",
    "plt.imshow(image, cmap='gray_r')\n",
    "plt.axis('off')\n",
    "plt.show()"
   ]
  },
  {
   "cell_type": "code",
   "execution_count": 15,
   "metadata": {
    "id": "cltigf4xh95z"
   },
   "outputs": [
    {
     "data": {
      "image/png": "[encoded data removed]",
      "text/plain": [
       "<Figure size 1000x300 with 20 Axes>"
      ]
     },
     "metadata": {},
     "output_type": "display_data"
    }
   ],
   "source": [
    "# 正解データ付きで、最初の20個をイメージ表示\n",
    "\n",
    "plt.figure(figsize=(10, 3))\n",
    "for i in range(20):\n",
    "    ax = plt.subplot(2, 10, i + 1)\n",
    "    \n",
    "    # image と labelの取得\n",
    "    image, label = train_set0[i]\n",
    "    \n",
    "    # イメージ表示\n",
    "    plt.imshow(image, cmap='gray_r')\n",
    "    ax.set_title(f'{label}')\n",
    "    ax.get_xaxis().set_visible(False)\n",
    "    ax.get_yaxis().set_visible(False)\n",
    "plt.show()"
   ]
  },
  {
   "cell_type": "markdown",
   "metadata": {
    "id": "H69fmQI0ORq6"
   },
   "source": [
    "## 8.9 データ準備2 (Transformsによるデータ前処理)"
   ]
  },
  {
   "cell_type": "markdown",
   "metadata": {
    "id": "8_LMC1gpORq6"
   },
   "source": [
    "### Step1 ToTensorの利用"
   ]
  },
  {
   "cell_type": "code",
   "execution_count": null,
   "metadata": {
    "id": "1JBDhjnIORq6"
   },
   "outputs": [],
   "source": [
    "# ライブラリインポート\n",
    "import torchvision.transforms as transforms\n",
    "\n",
    "transform1 = transforms.Compose([\n",
    "    # データのTensor化\n",
    "    transforms.ToTensor(),\n",
    "])\n",
    "\n",
    "train_set1 = datasets.MNIST(\n",
    "    root=data_root,  train=True,  download=True,\n",
    "    transform = transform1)"
   ]
  },
  {
   "cell_type": "code",
   "execution_count": null,
   "metadata": {
    "id": "fHERq6bDORq6"
   },
   "outputs": [],
   "source": [
    "# 変換結果の確認\n",
    "\n",
    "image, label = train_set1[0]\n",
    "print('入力データの型: ', type(image))\n",
    "print('入力データのshape: ', image.shape)\n",
    "print('最小値: ', image.data.min())\n",
    "print('最大値: ', image.data.max())"
   ]
  },
  {
   "cell_type": "markdown",
   "metadata": {
    "id": "Vc0HYDp_ORq7"
   },
   "source": [
    "### Step2 Normalizeの利用"
   ]
  },
  {
   "cell_type": "code",
   "execution_count": null,
   "metadata": {
    "id": "EGCtROV8ORq7"
   },
   "outputs": [],
   "source": [
    "transform2 = transforms.Compose([\n",
    "    # データのTensor化\n",
    "    transforms.ToTensor(),\n",
    "    \n",
    "    # データの正規化\n",
    "    transforms.Normalize(0.5,  0.5),\n",
    "])\n",
    "\n",
    "train_set2 = datasets.MNIST(\n",
    "    root = data_root,  train = True,  download = True,\n",
    "    transform = transform2)"
   ]
  },
  {
   "cell_type": "code",
   "execution_count": null,
   "metadata": {
    "id": "y0R6AO1BORq7"
   },
   "outputs": [],
   "source": [
    "# 変換結果の確認\n",
    "\n",
    "image, label = train_set2[0]\n",
    "print('shape: ', image.shape)\n",
    "print('最小値: ', image.data.min())\n",
    "print('最大値: ', image.data.max())"
   ]
  },
  {
   "cell_type": "markdown",
   "metadata": {
    "id": "C3cZ9aT9ORq8"
   },
   "source": [
    "### Step3 Lambdaを利用して1階テンソル化"
   ]
  },
  {
   "cell_type": "code",
   "execution_count": null,
   "metadata": {
    "id": "jsZ1B1MXORq8"
   },
   "outputs": [],
   "source": [
    "transform3 = transforms.Compose([\n",
    "    # データのTensor化\n",
    "    transforms.ToTensor(),\n",
    "    \n",
    "    # データの正規化\n",
    "    transforms.Normalize(0.5, 0.5),\n",
    "    \n",
    "    # Tensorの1階テンソル化\n",
    "    transforms.Lambda(lambda x: x.view(-1)),\n",
    "])\n",
    "\n",
    "train_set3 = datasets.MNIST(\n",
    "    root = data_root,  train = True,  \n",
    "    download=True, transform = transform3)"
   ]
  },
  {
   "cell_type": "code",
   "execution_count": null,
   "metadata": {
    "id": "kQFnaPTnORq8"
   },
   "outputs": [],
   "source": [
    "# 変換結果の確認\n",
    "\n",
    "image, label = train_set3[0]\n",
    "print('shape: ', image.shape)\n",
    "print('最小値: ', image.data.min())\n",
    "print('最大値: ', image.data.max())"
   ]
  },
  {
   "cell_type": "markdown",
   "metadata": {
    "id": "Lm2hP2TtORq9"
   },
   "source": [
    "### 最終的な実装"
   ]
  },
  {
   "cell_type": "code",
   "execution_count": null,
   "metadata": {
    "id": "3LuXsts3ORq9"
   },
   "outputs": [],
   "source": [
    "# データ変換用関数 Transforms\n",
    "# (1) Imageをテンソル化\n",
    "# (2) [0, 1]の範囲の値を[-1, 1]の範囲にする\n",
    "# (3) データのshapeを[1, 28, 28]から[784]に変換\n",
    "\n",
    "transform = transforms.Compose([\n",
    "    # (1) データのテンソル化\n",
    "    transforms.ToTensor(),\n",
    "    \n",
    "    # (2) データの正規化\n",
    "    transforms.Normalize(0.5, 0.5),\n",
    "    \n",
    "    # (3) 1階テンソルに変換\n",
    "    transforms.Lambda(lambda x: x.view(-1)),\n",
    "])"
   ]
  },
  {
   "cell_type": "code",
   "execution_count": null,
   "metadata": {
    "id": "3gEppo6VORq9"
   },
   "outputs": [],
   "source": [
    "# データ取得用関数 Dataset\n",
    "\n",
    "# 訓練用データセットの定義\n",
    "train_set = datasets.MNIST(\n",
    "    root = data_root, train = True,\n",
    "    download = True, transform = transform)\n",
    "\n",
    "# 検証データセットの定義\n",
    "test_set = datasets.MNIST(\n",
    "    root = data_root, train = False, \n",
    "    download = True, transform = transform)"
   ]
  },
  {
   "cell_type": "markdown",
   "metadata": {
    "id": "oE2YPjEFORq-"
   },
   "source": [
    "## 8.10 データ準備3 データローダーによるミニバッチ用データ生成)"
   ]
  },
  {
   "cell_type": "code",
   "execution_count": null,
   "metadata": {
    "id": "c5Jog4MHORq-"
   },
   "outputs": [],
   "source": [
    "# ライブラリインポート\n",
    "from torch.utils.data import DataLoader\n",
    "\n",
    "# ミニバッチのサイズ指定\n",
    "batch_size = 500\n",
    "\n",
    "# 訓練用データローダー\n",
    "# 訓練用なので、シャッフルをかける\n",
    "train_loader = DataLoader(\n",
    "    train_set, batch_size = batch_size, \n",
    "    shuffle = True)\n",
    "\n",
    "# 検証用データローダー\n",
    "# 検証時にシャッフルは不要\n",
    "test_loader = DataLoader(\n",
    "    test_set,  batch_size = batch_size, \n",
    "    shuffle = False) "
   ]
  },
  {
   "cell_type": "code",
   "execution_count": null,
   "metadata": {
    "id": "xpWvs4n9ORq-"
   },
   "outputs": [],
   "source": [
    "# 何組のデータが取得できるか\n",
    "print(len(train_loader))\n",
    "\n",
    "# DataLoaderから最初の1セットを取得する\n",
    "for images, labels in train_loader:\n",
    "    break\n",
    "\n",
    "print(images.shape)\n",
    "print(labels.shape)"
   ]
  },
  {
   "cell_type": "code",
   "execution_count": null,
   "metadata": {
    "id": "uIk15hXpORq_"
   },
   "outputs": [],
   "source": [
    "# イメージ表示\n",
    "plt.figure(figsize=(10, 3))\n",
    "for i in range(20):\n",
    "    ax = plt.subplot(2, 10, i + 1)\n",
    "    \n",
    "    # numpyに変換\n",
    "    image = images[i].numpy()\n",
    "    label = labels[i]\n",
    "    \n",
    "    # imgの範囲を[0, 1]に戻す\n",
    "    image2 = (image + 1)/ 2\n",
    "    # イメージ表示\n",
    "    plt.imshow(image2.reshape(28, 28),cmap='gray_r')\n",
    "    ax.set_title(f'{label}')\n",
    "    ax.get_xaxis().set_visible(False)\n",
    "    ax.get_yaxis().set_visible(False)\n",
    "plt.show()"
   ]
  },
  {
   "cell_type": "markdown",
   "metadata": {
    "id": "C68aEOhrGyNA"
   },
   "source": [
    "全体で60000件ある訓練データが120個のグループに分割されて取得できていることがわかります。  \n",
    "今回はテスト用でシャッフルなしでデータを取得しましたが、訓練データは取得のたびにシャッフルがかかります。  \n",
    "つまり、ミニバッチ用のデータセットが自動的に取得できていることになります。"
   ]
  },
  {
   "cell_type": "markdown",
   "metadata": {
    "id": "ZBHL-ynpTx6X"
   },
   "source": [
    "## 8.11 モデル定義"
   ]
  },
  {
   "cell_type": "code",
   "execution_count": null,
   "metadata": {
    "id": "uIXhfySWTx6Y"
   },
   "outputs": [],
   "source": [
    "# 入力次元数\n",
    "n_input = image.shape[0]\n",
    "\n",
    "# 出力次元数\n",
    "# 分類先クラス数　今回は10になる\n",
    "n_output = 10\n",
    "\n",
    "#   隠れ層のノード数\n",
    "n_hidden = 128\n",
    "\n",
    "# 結果確認\n",
    "print(f'n_input: {n_input}  n_hidden: {n_hidden} n_output: {n_output}')"
   ]
  },
  {
   "cell_type": "code",
   "execution_count": null,
   "metadata": {
    "id": "GIHt22OFGyNC"
   },
   "outputs": [],
   "source": [
    "# モデルの定義\n",
    "# 784入力10出力1隠れ層のニューラルネットワークモデル\n",
    "\n",
    "class Net(nn.Module):\n",
    "    def __init__(self, n_input, n_output, n_hidden):\n",
    "        super().__init__()\n",
    "\n",
    "        # 隠れ層の定義 (隠れ層のノード数: n_hidden)\n",
    "        self.l1 = nn.Linear(n_input, n_hidden)\n",
    "\n",
    "        # 出力層の定義\n",
    "        self.l2 = nn.Linear(n_hidden, n_output)\n",
    "\n",
    "        # ReLU関数の定義\n",
    "        self.relu = nn.ReLU(inplace=True)\n",
    "   \n",
    "    def forward(self, x):\n",
    "        x1 = self.l1(x)\n",
    "        x2 = self.relu(x1)\n",
    "        x3 = self.l2(x2)\n",
    "        return x3"
   ]
  },
  {
   "cell_type": "code",
   "execution_count": null,
   "metadata": {
    "id": "Q749IwhKGyNC"
   },
   "outputs": [],
   "source": [
    "# 乱数の固定化\n",
    "torch.manual_seed(123)\n",
    "torch.cuda.manual_seed(123)\n",
    "\n",
    "# モデルインスタンス生成\n",
    "net = Net(n_input, n_output, n_hidden)\n",
    "\n",
    "# モデルをGPU側に送る\n",
    "net = net.to(device)"
   ]
  },
  {
   "cell_type": "markdown",
   "metadata": {
    "id": "0V6v9PCpTx6b"
   },
   "source": [
    "### 最適化アルゴリズムと損失関数"
   ]
  },
  {
   "cell_type": "code",
   "execution_count": null,
   "metadata": {
    "id": "VyIXY4i_GyNC"
   },
   "outputs": [],
   "source": [
    "# 学習率\n",
    "lr = 0.01\n",
    "\n",
    "# アルゴリズム: 勾配降下法\n",
    "optimizer = torch.optim.SGD(net.parameters(), lr=lr)\n",
    "\n",
    "# 損失関数： 交差エントロピー関数\n",
    "criterion = nn.CrossEntropyLoss()"
   ]
  },
  {
   "cell_type": "markdown",
   "metadata": {
    "id": "YdR3zTewTx6c"
   },
   "source": [
    "### モデル確認"
   ]
  },
  {
   "cell_type": "code",
   "execution_count": null,
   "metadata": {
    "id": "fDwhdRWjMOmT"
   },
   "outputs": [],
   "source": [
    "# モデル内のパラメータの確認\n",
    "# l1.weight, l1.bias, l2.weight, l2.biasがあることがわかる\n",
    "\n",
    "for parameter in net.named_parameters():\n",
    "    print(parameter)"
   ]
  },
  {
   "cell_type": "code",
   "execution_count": null,
   "metadata": {
    "id": "b56fYbaVGyND"
   },
   "outputs": [],
   "source": [
    "# モデルの概要表示\n",
    "\n",
    "print(net)"
   ]
  },
  {
   "cell_type": "code",
   "execution_count": null,
   "metadata": {
    "id": "tl6x8W1vGyND"
   },
   "outputs": [],
   "source": [
    "# モデルのサマリー表示\n",
    "\n",
    "summary(net, (784,))"
   ]
  },
  {
   "cell_type": "markdown",
   "metadata": {
    "id": "zodDP4VcuuQl"
   },
   "source": [
    "## 8.12 勾配降下法"
   ]
  },
  {
   "cell_type": "markdown",
   "metadata": {
    "id": "UnhTGUUiBYnV"
   },
   "source": [
    "### 予測計算"
   ]
  },
  {
   "cell_type": "code",
   "execution_count": null,
   "metadata": {
    "id": "kE5l-chbGyND"
   },
   "outputs": [],
   "source": [
    "# 訓練データセット　最初の1項目を取得\n",
    "# データローダーから最初の1セットを取得する\n",
    "for images, labels in train_loader:\n",
    "    break "
   ]
  },
  {
   "cell_type": "code",
   "execution_count": null,
   "metadata": {
    "id": "FQax9NwFJeWs"
   },
   "outputs": [],
   "source": [
    "# データローダーから取得したデータをGPUに送る\n",
    "inputs = images.to(device)\n",
    "labels = labels.to(device)"
   ]
  },
  {
   "cell_type": "code",
   "execution_count": null,
   "metadata": {
    "id": "tZWIl2PUJl8B"
   },
   "outputs": [],
   "source": [
    "# 予測計算\n",
    "outputs = net(inputs)\n",
    "\n",
    "# 結果確認\n",
    "print(outputs)"
   ]
  },
  {
   "cell_type": "markdown",
   "metadata": {
    "id": "O7D1YeAxBsD_"
   },
   "source": [
    "### 損失関数"
   ]
  },
  {
   "cell_type": "markdown",
   "metadata": {
    "id": "5PbP_nUUDsJZ"
   },
   "source": [
    "#### 損失計算と計算グラフの可視化"
   ]
  },
  {
   "cell_type": "code",
   "execution_count": null,
   "metadata": {
    "id": "g-2E8cA_d4dF"
   },
   "outputs": [],
   "source": [
    "#  損失計算\n",
    "loss = criterion(outputs, labels)\n",
    "\n",
    "# 損失値の取得\n",
    "print(loss.item())\n",
    "\n",
    "# 損失の計算グラフ可視化\n",
    "g = make_dot(loss, params=dict(net.named_parameters()))\n",
    "display(g)"
   ]
  },
  {
   "cell_type": "markdown",
   "metadata": {
    "id": "-ZKkOTDbByWr"
   },
   "source": [
    "### 勾配計算"
   ]
  },
  {
   "cell_type": "code",
   "execution_count": null,
   "metadata": {
    "id": "uTvRimoEiHeZ"
   },
   "outputs": [],
   "source": [
    "# 勾配計算の実行\n",
    "loss.backward()"
   ]
  },
  {
   "cell_type": "code",
   "execution_count": null,
   "metadata": {
    "id": "8xRXQnfsArTV"
   },
   "outputs": [],
   "source": [
    "# 勾配計算の結果\n",
    "w = net.to('cpu')\n",
    "print(w.l1.weight.grad.numpy())\n",
    "print(w.l1.bias.grad.numpy())\n",
    "print(w.l2.weight.grad.numpy())\n",
    "print(w.l2.bias.grad.numpy())"
   ]
  },
  {
   "cell_type": "markdown",
   "metadata": {
    "id": "PAN6zrWwB_1Q"
   },
   "source": [
    "### パラメータ修正"
   ]
  },
  {
   "cell_type": "code",
   "execution_count": null,
   "metadata": {
    "id": "Q-fIWFp7iW8_"
   },
   "outputs": [],
   "source": [
    "# 勾配降下法の適用\n",
    "optimizer.step()"
   ]
  },
  {
   "cell_type": "code",
   "execution_count": null,
   "metadata": {
    "id": "quuVCRNJij0M"
   },
   "outputs": [],
   "source": [
    "# パラメータ値の表示\n",
    "print(net.l1.weight)\n",
    "print(net.l1.bias)"
   ]
  },
  {
   "cell_type": "markdown",
   "metadata": {
    "id": "1fuqiacmvNJq"
   },
   "source": [
    "### 繰り返し計算"
   ]
  },
  {
   "cell_type": "code",
   "execution_count": null,
   "metadata": {
    "id": "F_xGv4kci7XG"
   },
   "outputs": [],
   "source": [
    "# 乱数の固定化\n",
    "torch.manual_seed(123)\n",
    "torch.cuda.manual_seed(123)\n",
    "torch.backends.cudnn.deterministic = True\n",
    "torch.use_deterministic_algorithms = True\n",
    "\n",
    "# 学習率\n",
    "lr = 0.01\n",
    "\n",
    "# モデルインスタンス生成\n",
    "net = Net(n_input, n_output, n_hidden).to(device)\n",
    "\n",
    "# 損失関数： 交差エントロピー関数\n",
    "criterion = nn.CrossEntropyLoss()\n",
    "\n",
    "# 最適化関数: 勾配降下法\n",
    "optimizer = optim.SGD(net.parameters(), lr=lr)\n",
    "\n",
    "# 繰り返し回数\n",
    "num_epochs = 100\n",
    "\n",
    "# 評価結果記録用\n",
    "history = np.zeros((0,5))"
   ]
  },
  {
   "cell_type": "code",
   "execution_count": null,
   "metadata": {
    "id": "k8e4FfOLfFV4"
   },
   "outputs": [],
   "source": [
    "# tqdmライブラリのインポート\n",
    "from tqdm.notebook import tqdm\n",
    "\n",
    "# 繰り返し計算メインループ\n",
    "\n",
    "for epoch in range(num_epochs):\n",
    "    # 1エポックあたりの正解数(精度計算用)\n",
    "    n_train_acc, n_val_acc = 0, 0\n",
    "    # 1エポックあたりの累積損失(平均化前)\n",
    "    train_loss, val_loss = 0, 0\n",
    "    # 1エポックあたりのデータ累積件数\n",
    "    n_train, n_test = 0, 0\n",
    "\n",
    "    # 訓練フェーズ\n",
    "    for inputs, labels in tqdm(train_loader):\n",
    "        # 1バッチあたりのデータ件数\n",
    "        train_batch_size = len(labels)\n",
    "        # 1エポックあたりのデータ累積件数\n",
    "        n_train += train_batch_size\n",
    "\n",
    "        # GPUヘ転送\n",
    "        inputs = inputs.to(device)\n",
    "        labels = labels.to(device)\n",
    "    \n",
    "        #勾配の初期化\n",
    "        optimizer.zero_grad()\n",
    "\n",
    "        # 予測計算\n",
    "        outputs = net(inputs)\n",
    "\n",
    "        # 損失計算\n",
    "        loss = criterion(outputs, labels)\n",
    "\n",
    "        # 勾配計算\n",
    "        loss.backward()\n",
    "    \n",
    "        # パラメータ修正\n",
    "        optimizer.step()\n",
    "\n",
    "        # 予測ラベル導出\n",
    "        predicted = torch.max(outputs, 1)[1]\n",
    "\n",
    "        # 平均前の損失と正解数の計算\n",
    "        # lossは平均計算が行われているので平均前の損失に戻して加算\n",
    "        train_loss += loss.item() * train_batch_size \n",
    "        n_train_acc += (predicted == labels).sum().item() \n",
    "\n",
    "    #予測フェーズ\n",
    "    for inputs_test, labels_test in test_loader:\n",
    "        # 1バッチあたりのデータ件数\n",
    "        test_batch_size = len(labels_test)\n",
    "        # 1エポックあたりのデータ累積件数\n",
    "        n_test += test_batch_size\n",
    "\n",
    "        inputs_test = inputs_test.to(device)\n",
    "        labels_test = labels_test.to(device)\n",
    "            \n",
    "        # 予測計算\n",
    "        outputs_test = net(inputs_test)\n",
    "\n",
    "        # 損失計算\n",
    "        loss_test = criterion(outputs_test, labels_test)\n",
    "\n",
    "        #予測ラベル導出\n",
    "        predicted_test = torch.max(outputs_test, 1)[1]\n",
    "\n",
    "        #  平均前の損失と正解数の計算\n",
    "        # lossは平均計算が行われているので平均前の損失に戻して加算\n",
    "        val_loss +=  loss_test.item() * test_batch_size\n",
    "        n_val_acc +=  (predicted_test == labels_test).sum().item()\n",
    "\n",
    "    # 精度計算\n",
    "    train_acc = n_train_acc / n_train\n",
    "    val_acc = n_val_acc / n_test\n",
    "    # 損失計算\n",
    "    ave_train_loss = train_loss / n_train\n",
    "    ave_val_loss = val_loss / n_test\n",
    "    # 結果表示\n",
    "    print (f'Epoch [{epoch+1}/{num_epochs}], loss: {ave_train_loss:.5f} acc: {train_acc:.5f} val_loss: {ave_val_loss:.5f}, val_acc: {val_acc:.5f}')\n",
    "    # 記録\n",
    "    item = np.array([epoch+1 , ave_train_loss, train_acc, ave_val_loss, val_acc])\n",
    "    history = np.vstack((history, item))"
   ]
  },
  {
   "cell_type": "markdown",
   "metadata": {
    "id": "3YpNqlm2vZC0"
   },
   "source": [
    "## 8.13 結果確認"
   ]
  },
  {
   "cell_type": "code",
   "execution_count": null,
   "metadata": {
    "id": "2NQJM_UBli5m"
   },
   "outputs": [],
   "source": [
    "#損失と精度の確認\n",
    "\n",
    "print(f'初期状態: 損失: {history[0,3]:.5f} 精度: {history[0,4]:.5f}' )\n",
    "print(f'最終状態: 損失: {history[-1,3]:.5f} 精度: {history[-1,4]:.5f}' )"
   ]
  },
  {
   "cell_type": "code",
   "execution_count": null,
   "metadata": {
    "id": "phCQdH7No5Z_"
   },
   "outputs": [],
   "source": [
    "# 学習曲線の表示 (損失)\n",
    "\n",
    "plt.rcParams['figure.figsize'] = (9,8)\n",
    "plt.plot(history[:,0], history[:,1], 'b', label='訓練')\n",
    "plt.plot(history[:,0], history[:,3], 'k', label='検証')\n",
    "plt.xlabel('繰り返し回数')\n",
    "plt.ylabel('損失')\n",
    "plt.title('学習曲線(損失)')\n",
    "plt.legend()\n",
    "plt.show()"
   ]
  },
  {
   "cell_type": "code",
   "execution_count": null,
   "metadata": {
    "id": "v3I8Jw0ticf2"
   },
   "outputs": [],
   "source": [
    "# 学習曲線の表示 (精度)\n",
    "\n",
    "plt.rcParams['figure.figsize'] = (9,8)\n",
    "plt.plot(history[:,0], history[:,2], 'b', label='訓練')\n",
    "plt.plot(history[:,0], history[:,4], 'k', label='検証')\n",
    "plt.xlabel('繰り返し回数')\n",
    "plt.ylabel('精度')\n",
    "plt.title('学習曲線(精度)')\n",
    "plt.legend()\n",
    "plt.show()"
   ]
  },
  {
   "cell_type": "markdown",
   "metadata": {
    "id": "jHbKGRzI9XWn"
   },
   "source": [
    "### イメージ表示で確認"
   ]
  },
  {
   "cell_type": "code",
   "execution_count": null,
   "metadata": {
    "id": "oVuuBxXWHNvE"
   },
   "outputs": [],
   "source": [
    "# DataLoaderから最初の1セットを取得する\n",
    "for images, labels in test_loader:\n",
    "    break\n",
    "\n",
    "# 予測結果の取得\n",
    "inputs = images.to(device)\n",
    "labels = labels.to(device)\n",
    "outputs = net(inputs)\n",
    "predicted = torch.max(outputs, 1)[1]"
   ]
  },
  {
   "cell_type": "code",
   "execution_count": null,
   "metadata": {
    "id": "CN5MGTud7bsf"
   },
   "outputs": [],
   "source": [
    "# 最初の50件でイメージを「正解値:予測値」と表示\n",
    "\n",
    "plt.figure(figsize=(10, 8))\n",
    "for i in range(50):\n",
    "  ax = plt.subplot(5, 10, i + 1)\n",
    "    \n",
    "  # numpyに変換\n",
    "  image = images[i]\n",
    "  label = labels[i]\n",
    "  pred = predicted[i]\n",
    "  if (pred == label):\n",
    "    c = 'k'\n",
    "  else:\n",
    "    c = 'b'\n",
    "    \n",
    "  # imgの範囲を[0, 1]に戻す\n",
    "  image2 = (image + 1)/ 2\n",
    "    \n",
    "  # イメージ表示\n",
    "  plt.imshow(image2.reshape(28, 28),cmap='gray_r')\n",
    "  ax.set_title(f'{label}:{pred}', c=c)\n",
    "  ax.get_xaxis().set_visible(False)\n",
    "  ax.get_yaxis().set_visible(False)\n",
    "plt.show()\n"
   ]
  },
  {
   "cell_type": "markdown",
   "metadata": {
    "id": "lYQlrBNW4b0R"
   },
   "source": [
    "## 8.14 隠れ層の2層化"
   ]
  },
  {
   "cell_type": "code",
   "execution_count": null,
   "metadata": {
    "id": "WKI_YKqevw16"
   },
   "outputs": [],
   "source": [
    "# モデルの定義\n",
    "# 784入力10出力2隠れ層のニューラルネットワークモデル\n",
    "\n",
    "class Net2(nn.Module):\n",
    "    def __init__(self, n_input, n_output, n_hidden):\n",
    "        super().__init__()\n",
    "        \n",
    "        # 隠れ層1の定義 (隠れ層のノード数: n_hidden)\n",
    "        self.l1 = nn.Linear(n_input, n_hidden)\n",
    "\n",
    "        # 隠れ層2の定義 (隠れ層のノード数: n_hidden)\n",
    "        self.l2 = nn.Linear(n_hidden, n_hidden)\n",
    "\n",
    "        # 出力層の定義\n",
    "        self.l3 = nn.Linear(n_hidden, n_output)\n",
    "\n",
    "        # ReLU関数の定義\n",
    "        self.relu = nn.ReLU(inplace=True)\n",
    "\n",
    "    def forward(self, x):\n",
    "        x1 = self.l1(x)\n",
    "        x2 = self.relu(x1)\n",
    "        x3 = self.l2(x2)\n",
    "        x4 = self.relu(x3)\n",
    "        x5 = self.l3(x4)\n",
    "        return x5"
   ]
  },
  {
   "cell_type": "code",
   "execution_count": null,
   "metadata": {
    "id": "4iZ_1fHl59Js"
   },
   "outputs": [],
   "source": [
    "# 乱数の固定化\n",
    "torch.manual_seed(123)\n",
    "torch.cuda.manual_seed(123)\n",
    "\n",
    "# モデルインスタンス生成\n",
    "net = Net2(n_input, n_output, n_hidden).to(device)\n",
    "\n",
    "# 損失関数： 交差エントロピー関数\n",
    "criterion = nn.CrossEntropyLoss()\n",
    "\n",
    "# 最適化関数: 勾配降下法\n",
    "optimizer = torch.optim.SGD(net.parameters(), lr=lr)"
   ]
  },
  {
   "cell_type": "code",
   "execution_count": null,
   "metadata": {
    "id": "D6iqjM5P5EW5"
   },
   "outputs": [],
   "source": [
    "# モデルの概要表示\n",
    "\n",
    "print(net)"
   ]
  },
  {
   "cell_type": "code",
   "execution_count": null,
   "metadata": {
    "id": "rL5pmOzi5T0i"
   },
   "outputs": [],
   "source": [
    "# モデルのサマリー表示\n",
    "\n",
    "summary(net, (784,))"
   ]
  },
  {
   "cell_type": "code",
   "execution_count": null,
   "metadata": {
    "id": "tuznoi_AgBQ0"
   },
   "outputs": [],
   "source": [
    "# DataLoaderから最初の1セットを取得する\n",
    "for images, labels in test_loader:\n",
    "    break\n",
    "\n",
    "# 予測結果の取得\n",
    "inputs = images.to(device)\n",
    "labels = labels.to(device)"
   ]
  },
  {
   "cell_type": "code",
   "execution_count": null,
   "metadata": {
    "id": "ANTVr2Wz5bbU"
   },
   "outputs": [],
   "source": [
    "# 予測計算\n",
    "outputs = net(inputs)\n",
    "\n",
    "#  損失計算\n",
    "loss = criterion(outputs, labels)\n",
    "\n",
    "# 損失の計算グラフ可視化\n",
    "make_dot(loss, params=dict(net.named_parameters()))"
   ]
  },
  {
   "cell_type": "markdown",
   "metadata": {
    "id": "MSvDarxnQRbh"
   },
   "source": [
    "### 勾配計算"
   ]
  },
  {
   "cell_type": "code",
   "execution_count": null,
   "metadata": {
    "id": "fqzLuvQ3ix3t"
   },
   "outputs": [],
   "source": [
    "# 勾配計算\n",
    "loss.backward()\n",
    "\n",
    "# 勾配計算結果の一部\n",
    "w = net.to('cpu').l1.weight.grad.numpy()\n",
    "print(w)\n",
    "\n",
    "# 各要素の絶対値の平均\n",
    "print(np.abs(w).mean())"
   ]
  },
  {
   "cell_type": "markdown",
   "metadata": {
    "id": "0d8Wavl7rehD"
   },
   "source": [
    "### 繰り返し計算"
   ]
  },
  {
   "cell_type": "code",
   "execution_count": null,
   "metadata": {
    "id": "3Y4-Y2KA602e"
   },
   "outputs": [],
   "source": [
    "# 乱数の固定化\n",
    "torch.manual_seed(123)\n",
    "torch.cuda.manual_seed(123)\n",
    "torch.backends.cudnn.deterministic = True\n",
    "torch.use_deterministic_algorithms = True\n",
    "\n",
    "# モデルインスタンス生成\n",
    "net = Net2(n_input, n_output, n_hidden).to(device)\n",
    "\n",
    "# 損失関数： 交差エントロピー関数\n",
    "criterion = nn.CrossEntropyLoss()\n",
    "\n",
    "# 最適化関数: 勾配降下法\n",
    "optimizer = optim.SGD(net.parameters(), lr=lr)\n",
    "\n",
    "# 繰り返し回数\n",
    "num_epochs = 200\n",
    "\n",
    "# 評価結果記録用\n",
    "history2 = np.zeros((0,5))"
   ]
  },
  {
   "cell_type": "code",
   "execution_count": null,
   "metadata": {
    "id": "3S5NlNuoXi2I"
   },
   "outputs": [],
   "source": [
    "# tqdmライブラリのインポート\n",
    "from tqdm.notebook import tqdm\n",
    "\n",
    "# 繰り返し計算メインループ\n",
    "\n",
    "for epoch in range(num_epochs):\n",
    "    # 1エポックあたりの正解数(精度計算用)\n",
    "    n_train_acc, n_val_acc = 0, 0\n",
    "    # 1エポックあたりの累積損失(平均化前)\n",
    "    train_loss, val_loss = 0, 0\n",
    "    # 1エポックあたりのデータ累積件数\n",
    "    n_train, n_test = 0, 0\n",
    "\n",
    "    # 訓練フェーズ\n",
    "    for inputs, labels in tqdm(train_loader):\n",
    "        # 1バッチあたりのデータ件数\n",
    "        train_batch_size = len(labels)\n",
    "        # 1エポックあたりのデータ累積件数\n",
    "        n_train += train_batch_size\n",
    "\n",
    "        # GPUヘ転送\n",
    "        inputs = inputs.to(device)\n",
    "        labels = labels.to(device)\n",
    "    \n",
    "        #勾配の初期化\n",
    "        optimizer.zero_grad()\n",
    "\n",
    "        # 予測計算\n",
    "        outputs = net(inputs)\n",
    "\n",
    "        # 損失計算\n",
    "        loss = criterion(outputs, labels)\n",
    "\n",
    "        # 勾配計算\n",
    "        loss.backward()\n",
    "    \n",
    "        # パラメータ修正\n",
    "        optimizer.step()\n",
    "\n",
    "        # 予測ラベル導出\n",
    "        predicted = torch.max(outputs, 1)[1]\n",
    "\n",
    "        # 平均前の損失と正解数の計算\n",
    "        # lossは平均計算が行われているので平均前の損失に戻して加算\n",
    "        train_loss += loss.item() * train_batch_size \n",
    "        n_train_acc += (predicted == labels).sum().item() \n",
    "\n",
    "    #予測フェーズ\n",
    "    for inputs_test, labels_test in test_loader:\n",
    "        # 1バッチあたりのデータ件数\n",
    "        test_batch_size = len(labels_test)\n",
    "        # 1エポックあたりのデータ累積件数\n",
    "        n_test += test_batch_size\n",
    "\n",
    "        inputs_test = inputs_test.to(device)\n",
    "        labels_test = labels_test.to(device)\n",
    "            \n",
    "        # 予測計算\n",
    "        outputs_test = net(inputs_test)\n",
    "\n",
    "        # 損失計算\n",
    "        loss_test = criterion(outputs_test, labels_test)\n",
    "\n",
    "        #予測ラベル導出\n",
    "        predicted_test = torch.max(outputs_test, 1)[1]\n",
    "\n",
    "        #  平均前の損失と正解数の計算\n",
    "        # lossは平均計算が行われているので平均前の損失に戻して加算\n",
    "        val_loss +=  loss_test.item() * test_batch_size\n",
    "        n_val_acc +=  (predicted_test == labels_test).sum().item()\n",
    "\n",
    "    # 精度計算\n",
    "    train_acc = n_train_acc / n_train\n",
    "    val_acc = n_val_acc / n_test\n",
    "    # 損失計算\n",
    "    ave_train_loss = train_loss / n_train\n",
    "    ave_val_loss = val_loss / n_test\n",
    "    # 結果表示\n",
    "    print (f'Epoch [{epoch+1}/{num_epochs}], loss: {ave_train_loss:.5f} acc: {train_acc:.5f} val_loss: {ave_val_loss:.5f}, val_acc: {val_acc:.5f}')\n",
    "    # 記録\n",
    "    item = np.array([epoch+1 , ave_train_loss, train_acc, ave_val_loss, val_acc])\n",
    "    history2 = np.vstack((history2, item))"
   ]
  },
  {
   "cell_type": "code",
   "execution_count": null,
   "metadata": {
    "id": "Ypvzwuju7Imp"
   },
   "outputs": [],
   "source": [
    "#損失と精度の確認\n",
    "\n",
    "print(f'初期状態: 損失: {history2[0,3]:.5f} 精度: {history2[0,4]:.5f}' )\n",
    "print(f'最終状態: 損失: {history2[-1,3]:.5f} 精度: {history2[-1,4]:.5f}' )"
   ]
  },
  {
   "cell_type": "code",
   "execution_count": null,
   "metadata": {
    "id": "ZTvso0I27I2a"
   },
   "outputs": [],
   "source": [
    "# 学習曲線の表示 (損失)\n",
    "\n",
    "plt.plot(history2[:,0], history2[:,1], 'b', label='訓練')\n",
    "plt.plot(history2[:,0], history2[:,3], 'k', label='検証')\n",
    "plt.xlabel('繰り返し回数')\n",
    "plt.ylabel('損失')\n",
    "plt.title('学習曲線(損失)')\n",
    "plt.legend()\n",
    "plt.show()"
   ]
  },
  {
   "cell_type": "code",
   "execution_count": null,
   "metadata": {
    "id": "S5qoasEA7JEa"
   },
   "outputs": [],
   "source": [
    "# 学習曲線の表示 (精度)\n",
    "\n",
    "plt.plot(history2[:,0], history2[:,2], 'b', label='訓練')\n",
    "plt.plot(history2[:,0], history2[:,4], 'k', label='検証')\n",
    "plt.xlabel('繰り返し回数')\n",
    "plt.ylabel('精度')\n",
    "plt.title('学習曲線(精度)')\n",
    "plt.legend()\n",
    "plt.show()"
   ]
  },
  {
   "cell_type": "markdown",
   "metadata": {
    "id": "pW9O1YawQRbq"
   },
   "source": [
    "## コラム　勾配消失とReLU関数"
   ]
  },
  {
   "cell_type": "code",
   "execution_count": null,
   "metadata": {
    "id": "eAyrUWNFQRbq"
   },
   "outputs": [],
   "source": [
    "# モデルの定義　シグモイド関数バージョン\n",
    "# 784入力10出力2隠れ層のニューラルネットワークモデル\n",
    "\n",
    "class Net3(nn.Module):\n",
    "    def __init__(self, n_input, n_output, n_hidden):\n",
    "        super().__init__()\n",
    "        \n",
    "        # 隠れ層1の定義 (隠れ層のノード数: n_hidden)\n",
    "        self.l1 = nn.Linear(n_input, n_hidden)\n",
    "\n",
    "        # 隠れ層2の定義 (隠れ層のノード数: n_hidden)\n",
    "        self.l2 = nn.Linear(n_hidden, n_hidden)\n",
    "\n",
    "        # 出力層の定義\n",
    "        self.l3 = nn.Linear(n_hidden, n_output)\n",
    "\n",
    "        # シグモイド関数の定義\n",
    "        self.sigmoid = nn.Sigmoid()\n",
    "\n",
    "    def forward(self, x):\n",
    "        x1 = self.l1(x)\n",
    "        x2 = self.sigmoid(x1)\n",
    "        x3 = self.l2(x2)\n",
    "        x4 = self.sigmoid(x3)\n",
    "        x5 = self.l3(x4)\n",
    "        return x5"
   ]
  },
  {
   "cell_type": "code",
   "execution_count": null,
   "metadata": {
    "id": "6Eh3LoaBQRbr"
   },
   "outputs": [],
   "source": [
    "# 乱数の固定化\n",
    "torch.manual_seed(123)\n",
    "torch.cuda.manual_seed(123)\n",
    "\n",
    "# モデルインスタンス生成\n",
    "net = Net3(n_input, n_output, n_hidden).to(device)\n",
    "\n",
    "# 損失関数： 交差エントロピー関数\n",
    "criterion = nn.CrossEntropyLoss()\n",
    "\n",
    "# 最適化関数: 勾配降下法\n",
    "optimizer = torch.optim.SGD(net.parameters(), lr=lr)"
   ]
  },
  {
   "cell_type": "code",
   "execution_count": null,
   "metadata": {
    "id": "9jZIRBRSfsov"
   },
   "outputs": [],
   "source": [
    "# DataLoaderから最初の1セットを取得する\n",
    "for images, labels in test_loader:\n",
    "    break\n",
    "\n",
    "# 予測結果の取得\n",
    "inputs = images.to(device)\n",
    "labels = labels.to(device)"
   ]
  },
  {
   "cell_type": "code",
   "execution_count": null,
   "metadata": {
    "id": "z1OMhGtkmkR5"
   },
   "outputs": [],
   "source": [
    "# 予測計算\n",
    "outputs = net(inputs)\n",
    "\n",
    "# 損失計算\n",
    "loss = criterion(outputs, labels)\n",
    "\n",
    "# 損失の計算グラフ可視化\n",
    "make_dot(loss, params=dict(net.named_parameters()))"
   ]
  },
  {
   "cell_type": "code",
   "execution_count": null,
   "metadata": {
    "id": "hxF0mwu8HTuK"
   },
   "outputs": [],
   "source": [
    "# 勾配計算\n",
    "loss.backward()\n",
    "\n",
    "# 勾配計算結果の一部\n",
    "w = net.to('cpu').l1.weight.grad.numpy()\n",
    "print(w)\n",
    "\n",
    "# 各要素の絶対値の平均\n",
    "print(np.abs(w).mean())"
   ]
  },
  {
   "cell_type": "markdown",
   "metadata": {
    "id": "l27mdkndXTYK"
   },
   "source": [
    "## コラム　lambda式による関数定義"
   ]
  },
  {
   "cell_type": "code",
   "execution_count": null,
   "metadata": {
    "id": "uHF-e5roXToO"
   },
   "outputs": [],
   "source": [
    "# 通常の関数定義\n",
    "\n",
    "def f(x):\n",
    "    return (2 * x**2 + 2)"
   ]
  },
  {
   "cell_type": "code",
   "execution_count": null,
   "metadata": {
    "id": "fV8-PErUztA0"
   },
   "outputs": [],
   "source": [
    "x = np.arange(-2, 2.1, 0.25)\n",
    "y = f(x)\n",
    "print(y)"
   ]
  },
  {
   "cell_type": "code",
   "execution_count": null,
   "metadata": {
    "id": "6G78qvPjztA0"
   },
   "outputs": [],
   "source": [
    "# lambda式による関数定義\n",
    "\n",
    "g = lambda x: 2 * x**2 + 2"
   ]
  },
  {
   "cell_type": "code",
   "execution_count": null,
   "metadata": {
    "id": "6G6B3TKkztA0"
   },
   "outputs": [],
   "source": [
    "y = g(x)\n",
    "print(y)"
   ]
  },
  {
   "cell_type": "markdown",
   "metadata": {
    "id": "lcZ6_XudTXJe"
   },
   "source": [
    "## コラム バッチサイズと精度"
   ]
  },
  {
   "cell_type": "markdown",
   "metadata": {
    "id": "Oj1K95OlGa2I"
   },
   "source": [
    "### fit関数の定義"
   ]
  },
  {
   "cell_type": "code",
   "execution_count": null,
   "metadata": {
    "id": "Q5yVM-xLYhjs"
   },
   "outputs": [],
   "source": [
    "# 学習用関数\n",
    "def fit(net, optimizer, criterion, num_epochs, train_loader, test_loader, device, history):\n",
    "\n",
    "    # tqdmライブラリのインポート\n",
    "    from tqdm.notebook import tqdm\n",
    "\n",
    "    base_epochs = len(history)\n",
    "  \n",
    "    for epoch in range(base_epochs, num_epochs+base_epochs):\n",
    "        # 1エポックあたりの正解数(精度計算用)\n",
    "        n_train_acc, n_val_acc = 0, 0\n",
    "        # 1エポックあたりの累積損失(平均化前)\n",
    "        train_loss, val_loss = 0, 0\n",
    "        # 1エポックあたりのデータ累積件数\n",
    "        n_train, n_test = 0, 0\n",
    "\n",
    "        #訓練フェーズ\n",
    "        net.train()\n",
    "\n",
    "        for inputs, labels in tqdm(train_loader):\n",
    "            # 1バッチあたりのデータ件数\n",
    "            train_batch_size = len(labels)\n",
    "            # 1エポックあたりのデータ累積件数\n",
    "            n_train += train_batch_size\n",
    "    \n",
    "            # GPUヘ転送\n",
    "            inputs = inputs.to(device)\n",
    "            labels = labels.to(device)\n",
    "\n",
    "            # 勾配の初期化\n",
    "            optimizer.zero_grad()\n",
    "\n",
    "            # 予測計算\n",
    "            outputs = net(inputs)\n",
    "\n",
    "            # 損失計算\n",
    "            loss = criterion(outputs, labels)\n",
    "\n",
    "            # 勾配計算\n",
    "            loss.backward()\n",
    "\n",
    "            # パラメータ修正\n",
    "            optimizer.step()\n",
    "\n",
    "            # 予測ラベル導出\n",
    "            predicted = torch.max(outputs, 1)[1]\n",
    "\n",
    "            # 平均前の損失と正解数の計算\n",
    "            # lossは平均計算が行われているので平均前の損失に戻して加算\n",
    "            train_loss += loss.item() * train_batch_size \n",
    "            n_train_acc += (predicted == labels).sum().item() \n",
    "\n",
    "        #予測フェーズ\n",
    "        net.eval()\n",
    "\n",
    "        for inputs_test, labels_test in test_loader:\n",
    "            # 1バッチあたりのデータ件数\n",
    "            test_batch_size = len(labels_test)\n",
    "            # 1エポックあたりのデータ累積件数\n",
    "            n_test += test_batch_size\n",
    "\n",
    "            # GPUヘ転送\n",
    "            inputs_test = inputs_test.to(device)\n",
    "            labels_test = labels_test.to(device)\n",
    "\n",
    "            # 予測計算\n",
    "            outputs_test = net(inputs_test)\n",
    "\n",
    "            # 損失計算\n",
    "            loss_test = criterion(outputs_test, labels_test)\n",
    " \n",
    "            # 予測ラベル導出\n",
    "            predicted_test = torch.max(outputs_test, 1)[1]\n",
    "\n",
    "            #  平均前の損失と正解数の計算\n",
    "            # lossは平均計算が行われているので平均前の損失に戻して加算\n",
    "            val_loss +=  loss_test.item() * test_batch_size\n",
    "            n_val_acc +=  (predicted_test == labels_test).sum().item()\n",
    "\n",
    "        # 精度計算\n",
    "        train_acc = n_train_acc / n_train\n",
    "        val_acc = n_val_acc / n_test\n",
    "        # 損失計算\n",
    "        avg_train_loss = train_loss / n_train\n",
    "        avg_val_loss = val_loss / n_test\n",
    "        # 結果表示\n",
    "        print (f'Epoch [{(epoch+1)}/{num_epochs+base_epochs}], loss: {avg_train_loss:.5f} acc: {train_acc:.5f} val_loss: {avg_val_loss:.5f}, val_acc: {val_acc:.5f}')\n",
    "        # 記録\n",
    "        item = np.array([epoch+1, avg_train_loss, train_acc, avg_val_loss, val_acc])\n",
    "        history = np.vstack((history, item))\n",
    "    return history"
   ]
  },
  {
   "cell_type": "code",
   "execution_count": null,
   "metadata": {
    "id": "IzdXGNUYM_sk"
   },
   "outputs": [],
   "source": [
    "# PyTorch乱数固定用\n",
    "\n",
    "def torch_seed(seed=123):\n",
    "    torch.manual_seed(seed)\n",
    "    torch.cuda.manual_seed(seed)\n",
    "    torch.backends.cudnn.deterministic = True\n",
    "    torch.use_deterministic_algorithms = True"
   ]
  },
  {
   "cell_type": "code",
   "execution_count": null,
   "metadata": {
    "id": "0rq82O2Ti87J"
   },
   "outputs": [],
   "source": [
    "# ミニバッチのサイズ指定\n",
    "batch_size_train = 500\n",
    "\n",
    "# 訓練用データローダー\n",
    "# 訓練用なので、シャッフルをかける\n",
    "train_loader = DataLoader(\n",
    "    train_set, batch_size = batch_size_train, \n",
    "    shuffle = True)\n",
    "\n",
    "# 乱数の固定化\n",
    "torch_seed()\n",
    "\n",
    "# 学習率\n",
    "lr = 0.01\n",
    "\n",
    "# モデルインスタンス生成\n",
    "net = Net(n_input, n_output, n_hidden).to(device)\n",
    "\n",
    "# 最適化アルゴリズム: 勾配降下法\n",
    "optimizer = optim.SGD(net.parameters(), lr=lr)\n",
    "\n",
    "# 損失関数： 交差エントロピー関数\n",
    "criterion = nn.CrossEntropyLoss()\n",
    "\n",
    "# 繰り返し回数\n",
    "num_epochs = 100\n",
    "\n",
    "# 評価結果記録用\n",
    "history6 = np.zeros((0,5))"
   ]
  },
  {
   "cell_type": "code",
   "execution_count": null,
   "metadata": {
    "id": "Pr8JBupxjOaj"
   },
   "outputs": [],
   "source": [
    "history6 = fit(net, optimizer, criterion, num_epochs, train_loader, test_loader, device, history6)"
   ]
  },
  {
   "cell_type": "markdown",
   "metadata": {
    "id": "nt295NtfX_HK"
   },
   "source": [
    "### batch_size=200"
   ]
  },
  {
   "cell_type": "code",
   "execution_count": null,
   "metadata": {
    "id": "fSDG1UhbTuk4"
   },
   "outputs": [],
   "source": [
    "# ミニバッチのサイズ指定\n",
    "batch_size_train = 200\n",
    "\n",
    "# 訓練用データローダー\n",
    "# 訓練用なので、シャッフルをかける\n",
    "train_loader = DataLoader(\n",
    "    train_set, batch_size = batch_size_train, \n",
    "    shuffle = True)\n",
    "\n",
    "# 乱数の固定化\n",
    "torch_seed()\n",
    "\n",
    "# 学習率\n",
    "lr = 0.01\n",
    "\n",
    "# モデルインスタンス生成\n",
    "net = Net(n_input, n_output, n_hidden).to(device)\n",
    "\n",
    "# 最適化アルゴリズム: 勾配降下法\n",
    "optimizer = optim.SGD(net.parameters(), lr=lr)\n",
    "\n",
    "# 損失関数： 交差エントロピー関数\n",
    "criterion = nn.CrossEntropyLoss()\n",
    "\n",
    "# 繰り返し回数\n",
    "num_epochs = 100\n",
    "\n",
    "# 評価結果記録用\n",
    "history3 = np.zeros((0,5))"
   ]
  },
  {
   "cell_type": "code",
   "execution_count": null,
   "metadata": {
    "id": "4a4ozAKcH7v2"
   },
   "outputs": [],
   "source": [
    "history3 = fit(net, optimizer, criterion, num_epochs, train_loader, test_loader, device, history3)"
   ]
  },
  {
   "cell_type": "markdown",
   "metadata": {
    "id": "whmV7NaLIyJE"
   },
   "source": [
    "### batch_size=100"
   ]
  },
  {
   "cell_type": "code",
   "execution_count": null,
   "metadata": {
    "id": "90I9xU_SIu_v"
   },
   "outputs": [],
   "source": [
    "# ミニバッチのサイズ指定\n",
    "batch_size_train = 100\n",
    "\n",
    "# 訓練用データローダー\n",
    "# 訓練用なので、シャッフルをかける\n",
    "train_loader = DataLoader(\n",
    "    train_set, batch_size = batch_size_train, \n",
    "    shuffle = True)\n",
    "\n",
    "# 乱数の固定化\n",
    "torch_seed()\n",
    "\n",
    "# 学習率\n",
    "lr = 0.01\n",
    "\n",
    "# モデル初期化\n",
    "net = Net(n_input, n_output, n_hidden).to(device)\n",
    "\n",
    "# 最適化アルゴリズム: 勾配降下法\n",
    "optimizer = optim.SGD(net.parameters(), lr=lr)\n",
    "\n",
    "# 損失関数： 交差エントロピー関数\n",
    "criterion = nn.CrossEntropyLoss()\n",
    "\n",
    "# 繰り返し回数\n",
    "num_epochs = 100\n",
    "\n",
    "# 評価結果記録用\n",
    "history4 = np.zeros((0,5))"
   ]
  },
  {
   "cell_type": "code",
   "execution_count": null,
   "metadata": {
    "id": "0FVIZ5U9IvF0"
   },
   "outputs": [],
   "source": [
    "history4 = fit(net, optimizer, criterion, num_epochs, train_loader, test_loader, device, history4)"
   ]
  },
  {
   "cell_type": "markdown",
   "metadata": {
    "id": "yY58TdCuJBrR"
   },
   "source": [
    "### batch_size=50"
   ]
  },
  {
   "cell_type": "code",
   "execution_count": null,
   "metadata": {
    "id": "PsDDyUh7IvNb"
   },
   "outputs": [],
   "source": [
    "# ミニバッチのサイズ指定\n",
    "batch_size_train = 50\n",
    "\n",
    "# 訓練用データローダー\n",
    "# 訓練用なので、シャッフルをかける\n",
    "train_loader = DataLoader(\n",
    "    train_set, batch_size = batch_size_train, \n",
    "    shuffle = True)\n",
    "\n",
    "# 乱数の固定化\n",
    "torch_seed()\n",
    "\n",
    "# 学習率\n",
    "lr = 0.01\n",
    "\n",
    "# モデル初期化\n",
    "net = Net(n_input, n_output, n_hidden).to(device)\n",
    "\n",
    "# 最適化アルゴリズム: 勾配降下法\n",
    "optimizer = optim.SGD(net.parameters(), lr=lr)\n",
    "\n",
    "# 損失関数： 交差エントロピー関数\n",
    "criterion = nn.CrossEntropyLoss()\n",
    "\n",
    "# 繰り返し回数\n",
    "num_epochs = 100\n",
    "\n",
    "# 評価結果記録用\n",
    "history5 = np.zeros((0,5))"
   ]
  },
  {
   "cell_type": "code",
   "execution_count": null,
   "metadata": {
    "id": "3BEa8fHvIvoZ"
   },
   "outputs": [],
   "source": [
    "history5 = fit(net, optimizer, criterion, num_epochs, train_loader, test_loader, device, history5)"
   ]
  },
  {
   "cell_type": "markdown",
   "metadata": {
    "id": "4bJR1IpmJpGh"
   },
   "source": [
    "### 学習曲線の比較"
   ]
  },
  {
   "cell_type": "code",
   "execution_count": null,
   "metadata": {
    "id": "U6wENwdCorRu"
   },
   "outputs": [],
   "source": [
    "# 学習曲線の表示 (精度)\n",
    "\n",
    "plt.plot(history[:,0], history[:,4], label='batch_size=500', c='k', linestyle='-.')\n",
    "plt.plot(history3[:,0], history3[:,4], label='batch_size=200', c='b', linestyle='-.')\n",
    "plt.plot(history4[:,0], history4[:,4], label='batch_size=100', c='k')\n",
    "plt.plot(history5[:,0], history5[:,4], label='batch_size=50', c='b')\n",
    "plt.xlabel('繰り返し回数')\n",
    "plt.ylabel('精度')\n",
    "plt.title('学習曲線(精度)')\n",
    "plt.legend()\n",
    "plt.show()"
   ]
  },
  {
   "cell_type": "code",
   "execution_count": null,
   "metadata": {
    "id": "jCLl1jfqcjVQ"
   },
   "outputs": [],
   "source": []
  }
 ],
 "metadata": {
  "accelerator": "GPU",
  "colab": {
   "provenance": [],
   "toc_visible": true
  },
  "kernelspec": {
   "display_name": "Python 3 (ipykernel)",
   "language": "python",
   "name": "python3"
  },
  "language_info": {
   "codemirror_mode": {
    "name": "ipython",
    "version": 3
   },
   "file_extension": ".py",
   "mimetype": "text/x-python",
   "name": "python",
   "nbconvert_exporter": "python",
   "pygments_lexer": "ipython3",
   "version": "3.10.6"
  }
 },
 "nbformat": 4,
 "nbformat_minor": 4
}
