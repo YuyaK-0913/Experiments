{
 "cells": [
  {
   "cell_type": "markdown",
   "id": "60ffc782-1883-49f0-b91b-b422b561087e",
   "metadata": {},
   "source": [
    "# Transformerの解剖"
   ]
  },
  {
   "cell_type": "markdown",
   "id": "3574d0e7-9f2a-4022-b00d-bddce4a412ac",
   "metadata": {},
   "source": [
    "## PytorchImagePreprocessTransformer"
   ]
  },
  {
   "cell_type": "code",
   "execution_count": 5,
   "id": "10815bde-ca88-4974-bed2-c1a0631eff9d",
   "metadata": {},
   "outputs": [],
   "source": [
    "from PIL import Image\n",
    "import numpy as np"
   ]
  },
  {
   "cell_type": "code",
   "execution_count": 26,
   "id": "583e6404-901f-4abc-9f1f-6d6ef471acc2",
   "metadata": {},
   "outputs": [],
   "source": [
    "image_size = (224, 224)\n",
    "prediction_shape = (1, 3, 224, 224)\n",
    "mean_vec = [0.485, 0.456, 0.406]\n",
    "stddev_vec = [0.229, 0.224, 0.225]"
   ]
  },
  {
   "cell_type": "code",
   "execution_count": 7,
   "id": "28be3914-1eae-409d-8cf8-eef00ac0675a",
   "metadata": {},
   "outputs": [
    {
     "data": {
      "text/plain": [
       "(1024, 768, 3)"
      ]
     },
     "execution_count": 7,
     "metadata": {},
     "output_type": "execute_result"
    }
   ],
   "source": [
    "image = Image.open(\"./data/cat.jpg\")\n",
    "np.array(image).shape"
   ]
  },
  {
   "cell_type": "code",
   "execution_count": 40,
   "id": "25be4708-beae-4b7c-aabf-6c14cc99cc48",
   "metadata": {},
   "outputs": [
    {
     "name": "stdout",
     "output_type": "stream",
     "text": [
      "129.78682708740234\n",
      "255\n",
      "0\n"
     ]
    }
   ],
   "source": [
    "print(np.mean(image))\n",
    "print(np.max(image))\n",
    "print(np.min(image))"
   ]
  },
  {
   "cell_type": "markdown",
   "id": "26301458-1628-48eb-8fbb-19c10b1eca21",
   "metadata": {},
   "source": [
    "### 画像データの前処理のノウハウ\n",
    "\n",
    "- 画像データの前処理では，以下のような変換がなされる\n",
    "\n",
    "    - 入力形状: (高さ, 幅, チャンネル)\n",
    "    \n",
    "    - 出力形状: (チャンネル, 高さ, 幅)\n",
    "\n",
    "- ```resize```メソッド\n",
    "\n",
    "    - (width, height)の次元を指定して変換\n",
    "    \n",
    "    - チャネル方向の次元は無視される\n",
    "    \n",
    "- ```transpose```メソッド\n",
    "\n",
    "    - 軸のインデックスを指定して，軸の入れ替えを行う．"
   ]
  },
  {
   "cell_type": "code",
   "execution_count": 35,
   "id": "4841ab08-b7a1-4f31-bede-4849c449d3a8",
   "metadata": {},
   "outputs": [
    {
     "data": {
      "text/plain": [
       "(224, 224, 3)"
      ]
     },
     "execution_count": 35,
     "metadata": {},
     "output_type": "execute_result"
    }
   ],
   "source": [
    "# image.resize(image_size)\n",
    "\n",
    "# np.array(image.resize(image_size)).shape\n",
    "\n",
    "X = np.array(image.resize(image_size))\n",
    "\n",
    "X.shape"
   ]
  },
  {
   "cell_type": "code",
   "execution_count": 20,
   "id": "70fb5d3b-050a-48b3-b41b-31d80ae61e3a",
   "metadata": {},
   "outputs": [
    {
     "data": {
      "text/plain": [
       "(3, 224, 224)"
      ]
     },
     "execution_count": 20,
     "metadata": {},
     "output_type": "execute_result"
    }
   ],
   "source": [
    "# X.transpose(2, 0, 1).astype(np.float32).shape"
   ]
  },
  {
   "cell_type": "code",
   "execution_count": 21,
   "id": "e4766245-baf3-4356-ac65-9239b9a84514",
   "metadata": {},
   "outputs": [],
   "source": [
    "image_data = X.transpose(2, 0, 1).astype(np.float32)"
   ]
  },
  {
   "cell_type": "code",
   "execution_count": 22,
   "id": "a8417e42-6c4a-4cf7-8dab-605a1a13087a",
   "metadata": {},
   "outputs": [],
   "source": [
    "mean_vec = np.array(mean_vec)\n",
    "stddev_vec = np.array(stddev_vec)"
   ]
  },
  {
   "cell_type": "markdown",
   "id": "e8ea3750-328b-4f47-b594-84d6baff92cd",
   "metadata": {},
   "source": [
    "### 正規化の意義\n",
    "\n",
    "    - ニューラルネットワークの入力値が大きすぎたり小さすぎたりすると、計算過程で数値が不安定になる可能性がある\n",
    "\n",
    "    - なので，一般的には，正規化する"
   ]
  },
  {
   "cell_type": "code",
   "execution_count": 27,
   "id": "a8525a25-37f9-4fb1-aa24-e54527a81561",
   "metadata": {},
   "outputs": [],
   "source": [
    "norm_image_data = np.zeros(image_data.shape).astype(np.float32)\n",
    "\n",
    "for i in range(image_data.shape[0]):\n",
    "    norm_image_data[i, :, :] = (image_data[i, :, :] / 255 - mean_vec[i]) / stddev_vec[i]\n",
    "\n",
    "norm_image_data = norm_image_data.reshape(prediction_shape).astype(np.float32)"
   ]
  },
  {
   "cell_type": "code",
   "execution_count": 29,
   "id": "341ae504-7309-475e-bdf5-7822b19cf113",
   "metadata": {},
   "outputs": [
    {
     "data": {
      "text/plain": [
       "(1, 3, 224, 224)"
      ]
     },
     "execution_count": 29,
     "metadata": {},
     "output_type": "execute_result"
    }
   ],
   "source": [
    "norm_image_data.shape"
   ]
  },
  {
   "cell_type": "code",
   "execution_count": null,
   "id": "3041f17a-e63a-4c50-aff0-424713c5a8ea",
   "metadata": {},
   "outputs": [],
   "source": []
  },
  {
   "cell_type": "markdown",
   "id": "f616d28b-0c75-42ce-a631-528b1e5b629d",
   "metadata": {},
   "source": [
    "## SoftmaxTransformer"
   ]
  },
  {
   "cell_type": "markdown",
   "id": "d3d498a3-cb62-4983-afaa-0254f43177bd",
   "metadata": {},
   "source": [
    "- 入力の柔軟性：numpy配列、1次元または2次元のリストを入力として受け付ける．\n",
    "\n",
    "- 数値の安定性：オーバーフロー防止のため、最大値を引いてからexp関数を適用する．\n",
    "\n",
    "- 正規化：指数関数を適用した後、合計が1になるように正規化する．"
   ]
  },
  {
   "cell_type": "code",
   "execution_count": null,
   "id": "60101143-4218-4a9e-8746-1c0308af4fab",
   "metadata": {},
   "outputs": [],
   "source": [
    "X = np.array(X)\n",
    "x = X.reshape(-1)\n",
    "e_x = np.exp(x - np.max(x))\n",
    "result = np.array([e_x / e_x.sum(axis=0)])\n"
   ]
  },
  {
   "cell_type": "code",
   "execution_count": null,
   "id": "4a13d563-8204-4561-aa58-4a06a6d9e289",
   "metadata": {},
   "outputs": [],
   "source": []
  },
  {
   "cell_type": "code",
   "execution_count": null,
   "id": "50166608-087b-4f23-ace7-585dd663ec56",
   "metadata": {},
   "outputs": [],
   "source": []
  }
 ],
 "metadata": {
  "kernelspec": {
   "display_name": "Python 3 (ipykernel)",
   "language": "python",
   "name": "python3"
  },
  "language_info": {
   "codemirror_mode": {
    "name": "ipython",
    "version": 3
   },
   "file_extension": ".py",
   "mimetype": "text/x-python",
   "name": "python",
   "nbconvert_exporter": "python",
   "pygments_lexer": "ipython3",
   "version": "3.10.6"
  }
 },
 "nbformat": 4,
 "nbformat_minor": 5
}
